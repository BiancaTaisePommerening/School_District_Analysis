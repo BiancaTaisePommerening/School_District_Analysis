{
 "cells": [
  {
   "cell_type": "code",
   "execution_count": 5,
   "id": "ddc0bd26",
   "metadata": {},
   "outputs": [
    {
     "data": {
      "text/plain": [
       "Student ID        int64\n",
       "student_name     object\n",
       "gender           object\n",
       "grade            object\n",
       "school_name      object\n",
       "reading_score     int64\n",
       "math_score        int64\n",
       "dtype: object"
      ]
     },
     "execution_count": 5,
     "metadata": {},
     "output_type": "execute_result"
    }
   ],
   "source": [
    "# Add the pandas dependencies\n",
    "import pandas as pd\n",
    "import os\n",
    "\n",
    "# File to load\n",
    "school_data_to_load = \"Resources/schools_complete.csv\"\n",
    "student_data_to_load = \"Resources/students_complete.csv\"\n",
    "\n",
    "# read the school data file and store it in a Pandas Dataframe.\n",
    "school_data_df = pd.read_csv(school_data_to_load)\n",
    "school_data_df\n",
    "\n",
    "# Read the student data file' head (firt5 rows) and store it in a Pandas DataFrame.\n",
    "student_data_df = pd.read_csv(student_data_to_load)\n",
    "student_data_df.head()\n",
    "\n",
    "# Determine if there are any missing values in the school data (using the .count method).\n",
    "school_data_df.count()\n",
    "\n",
    "# Determine if there are any missing values in the student data ( using the .count method).\n",
    "student_data_df.count()\n",
    "\n",
    "# Determine if there are any missing values in the school data (using the .isnull method).\n",
    "school_data_df.isnull()\n",
    "\n",
    "# Determine if there are any missing values in the student data (using the .isnull method).\n",
    "student_data_df.isnull()\n",
    "\n",
    "# Determine if there are any missing values in the student data (using the .isnull and the .sum panda methods).\n",
    "student_data_df.isnull().sum()\n",
    "\n",
    "# Determine if there are not any missing values in the school data (using the .notnull method).\n",
    "school_data_df.notnull()\n",
    "\n",
    "# Determine if there are not any missing values in the student data (by chaining the .notnull and .sum methods together).\n",
    "student_data_df.notnull().sum()\n",
    "\n",
    "# Determine the data types for the school DataFrame.\n",
    "school_data_df.dtypes\n",
    "\n",
    "# Determine the data type of the budget column in the school DataFrame. \n",
    "# (use df.column.dtype for when the name of the coulmn doesn't have any spaces).\n",
    "school_data_df.budget.dtype\n",
    "\n",
    "# another way to determine the data type of the budget column in the school DataFrame. (use df[\"column\"].dtype, if the name of the column have spaces).\n",
    "school_data_df[\"budget\"].dtype\n",
    "\n",
    "# Determine data types for the student DataFrame.\n",
    "student_data_df.dtypes\n"
   ]
  },
  {
   "cell_type": "code",
   "execution_count": null,
   "id": "67c81658",
   "metadata": {},
   "outputs": [],
   "source": [
    "\n"
   ]
  },
  {
   "cell_type": "code",
   "execution_count": null,
   "id": "7fe7a2cd",
   "metadata": {},
   "outputs": [],
   "source": []
  }
 ],
 "metadata": {
  "kernelspec": {
   "display_name": "PythonData",
   "language": "python",
   "name": "pythondata"
  },
  "language_info": {
   "codemirror_mode": {
    "name": "ipython",
    "version": 3
   },
   "file_extension": ".py",
   "mimetype": "text/x-python",
   "name": "python",
   "nbconvert_exporter": "python",
   "pygments_lexer": "ipython3",
   "version": "3.7.11"
  }
 },
 "nbformat": 4,
 "nbformat_minor": 5
}
