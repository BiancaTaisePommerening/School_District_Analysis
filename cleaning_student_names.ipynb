{
 "cells": [
  {
   "cell_type": "code",
   "execution_count": 16,
   "id": "73df72b8",
   "metadata": {},
   "outputs": [
    {
     "data": {
      "text/plain": [
       "{'Cox',\n",
       " 'DDS',\n",
       " 'DVM',\n",
       " 'Day',\n",
       " 'II',\n",
       " 'III',\n",
       " 'IV',\n",
       " 'Jr.',\n",
       " 'Kim',\n",
       " 'Lee',\n",
       " 'Li',\n",
       " 'MD',\n",
       " 'PhD',\n",
       " 'Roy',\n",
       " 'V'}"
      ]
     },
     "execution_count": 16,
     "metadata": {},
     "output_type": "execute_result"
    }
   ],
   "source": [
    "# Add pandas dependencies.\n",
    "import pandas as pd\n",
    "\n",
    "\n",
    "# File to load.\n",
    "student_data_to_load = \"Resources/students_complete.csv\"\n",
    "\n",
    "# read the student data file and store it in a Pandas Dataframe.\n",
    "student_data_df = pd.read_csv(student_data_to_load)\n",
    "\n",
    "student_data_df\n",
    "\n",
    "# Put the student names in a list.\n",
    "student_names = student_data_df[\"student_name\"].tolist()\n",
    "student_names\n",
    "\n",
    "\n",
    "#testing out the split() method.\n",
    "#name = \"Mrs. Linda Santiago\"\n",
    "# print out the name.\n",
    "#name\n",
    "# Apply the split() method to the “name” variable.\n",
    "#name.split()\n",
    "# Get the length of the name after using the split() method. \n",
    "#len(name.split())\n",
    "\n",
    "# Split the student name and determine the length of the split name.\n",
    "#for name in student_names:\n",
    "       #print(name.split(), len(name.split()))\n",
    "    \n",
    "\n",
    "# Create a new list and use it for the for loop to iterate through the list.\n",
    "students_to_fix = []\n",
    "\n",
    "# Use an if statement to check the length of the name.\n",
    "# If the name is greater than or equal to \"3\", add the name to the list.\n",
    "\n",
    "for name in student_names:\n",
    "    if len(name.split()) >= 3:\n",
    "        students_to_fix.append(name)\n",
    "\n",
    "# Get the length of the students whose names are greater than or equal to \"3\".\n",
    "#len(students_to_fix)\n",
    "\n",
    "\n",
    "# Add the prefixes less than or equal to 4 to a new list.\n",
    "prefixes = []\n",
    "for name in students_to_fix:\n",
    "    if len(name.split()[0]) <= 4:\n",
    "        prefixes.append(name.split()[0])\n",
    "\n",
    "len(prefixes)\n",
    "\n",
    "# Add the suffixes less than or equal to 3 to a new list.\n",
    "\n",
    "suffixes = []\n",
    "for name in students_to_fix:\n",
    "    if len(name.split()[-1]) <= 3:\n",
    "        suffixes.append(name.split()[-1])\n",
    "        \n",
    "#print(suffixes)\n",
    "\n",
    "# Get the unique items in the \"prefixes\" list (usinf the set() method).\n",
    "set(prefixes)\n",
    "\n",
    "# Get the unique items in the \"suffixes\" list (usinf the set() method).\n",
    "set(suffixes)\n",
    "\n"
   ]
  },
  {
   "cell_type": "code",
   "execution_count": null,
   "id": "d8b5f4ca",
   "metadata": {},
   "outputs": [],
   "source": []
  },
  {
   "cell_type": "code",
   "execution_count": null,
   "id": "88b91cc7",
   "metadata": {},
   "outputs": [],
   "source": []
  },
  {
   "cell_type": "code",
   "execution_count": null,
   "id": "b19ffe90",
   "metadata": {},
   "outputs": [],
   "source": []
  }
 ],
 "metadata": {
  "kernelspec": {
   "display_name": "PythonData",
   "language": "python",
   "name": "pythondata"
  },
  "language_info": {
   "codemirror_mode": {
    "name": "ipython",
    "version": 3
   },
   "file_extension": ".py",
   "mimetype": "text/x-python",
   "name": "python",
   "nbconvert_exporter": "python",
   "pygments_lexer": "ipython3",
   "version": "3.7.11"
  }
 },
 "nbformat": 4,
 "nbformat_minor": 5
}
